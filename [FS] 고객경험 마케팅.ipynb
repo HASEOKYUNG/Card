{
 "cells": [
  {
   "cell_type": "markdown",
   "id": "c98d0f1c",
   "metadata": {},
   "source": [
    "# 뉴노멀 MBA : 차별화된 고객 경험을 제공하는 마케팅 전략\n",
    "- 최근 Digital Detox의 욕구가 늘고 있으며 유통업에서 온라인 소비의 비중은 20% 정도 차지하고 있다. 오프라인 활동의 중요성은 유효하며 오프라인에서의 Retail Therapy를 시도해야 한다.\n",
    "- 온라인에서 통합한 데이터, 기술을 오프라인에서 선보이는 O4O가 이루어지고 있다.(Amazon Go, Amazon Fresh)\n",
    "- 미래소비의 주역으로 꼽히는 Z세대는 Digital Native하여 온라인에서의 소비에 주로 관심을 갖는다고 생각할 수 있지만 조사 결과 오프라인 공간에 대한 니즈가 크다."
   ]
  },
  {
   "cell_type": "markdown",
   "id": "bb38e0a1",
   "metadata": {},
   "source": [
    "- 고객경험 마케팅은 \n",
    "- 경험 마케팅의 중요성이 커지고 있다.\n",
    "- '아름다워지다'라는 관점에서 접근하고 있는 아모레는 제품 테스트를 위한 뷰티 라운지를 성수에 열었다. 이후 방문객의 40%가 구매로 이어졌으며 그 중 50%는 온라인으로 구매하고 있다.(경험 요소가 중요함)"
   ]
  },
  {
   "cell_type": "markdown",
   "id": "100d33a8",
   "metadata": {},
   "source": [
    "- CX의 전달 방법은 고객 여정의 Map을 구체화하고 각 단계의 문제점을 해결해야 한다.\n",
    "- 충동구매 유도"
   ]
  },
  {
   "cell_type": "code",
   "execution_count": null,
   "id": "18f63b82",
   "metadata": {},
   "outputs": [],
   "source": []
  }
 ],
 "metadata": {
  "kernelspec": {
   "display_name": "Python 3 (ipykernel)",
   "language": "python",
   "name": "python3"
  },
  "language_info": {
   "codemirror_mode": {
    "name": "ipython",
    "version": 3
   },
   "file_extension": ".py",
   "mimetype": "text/x-python",
   "name": "python",
   "nbconvert_exporter": "python",
   "pygments_lexer": "ipython3",
   "version": "3.9.12"
  }
 },
 "nbformat": 4,
 "nbformat_minor": 5
}
